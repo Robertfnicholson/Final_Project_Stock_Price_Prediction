{
  "cells": [
    {
      "cell_type": "code",
      "execution_count": null,
      "metadata": {},
      "outputs": [],
      "source": [
        "!pip install bitdotio[psycopg2]"
      ]
    },
    {
      "cell_type": "code",
      "execution_count": 2,
      "metadata": {},
      "outputs": [],
      "source": [
        "# Need help? Reach out to support@bit.io!\n",
        "import bitdotio\n",
        "\n",
        "# Check out https://github.com/bitdotioinc/python-bitdotio for more examples and documentation\n",
        "client = bitdotio.bitdotio(\"3XfJa_HvCmmXFvY9BXmkXdSEnJEAC\")\n",
        "print(client.list_repos())"
      ]
    },
    {
      "cell_type": "code",
      "execution_count": 2,
      "metadata": {},
      "outputs": [],
      "source": [
        "# Run a query against one of your tables\n",
        "query_result = client.query(query_string='SELECT * from \"kaalrok/demo_repo\".\"atl_home_sales\"', fields={}, data=[])\n",
        "print(query_result)"
      ]
    }
  
  ],
  "metadata": {
    "kernelspec": {
      "display_name": "Python 3",
      "language": "python",
      "name": "python3"
    },
    "language_info": {
      "codemirror_mode": {
        "name": "ipython",
        "version": 3
      },
      "file_extension": ".py",
      "mimetype": "text/x-python",
      "name": "python",
      "nbconvert_exporter": "python",
      "pygments_lexer": "ipython3",
      "version": "3.6.11"
    }
  },
  "nbformat": 4,
  "nbformat_minor": 4
}
